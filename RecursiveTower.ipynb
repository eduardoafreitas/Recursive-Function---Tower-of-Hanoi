{
 "cells": [
  {
   "cell_type": "code",
   "execution_count": 1,
   "id": "5603b4de",
   "metadata": {},
   "outputs": [
    {
     "name": "stdout",
     "output_type": "stream",
     "text": [
      "Number of disks to be displaced: 4\n",
      "Disk 1 moves from tower A to tower B.\n",
      "Disk 2 moves from tower A to tower C.\n",
      "Disk 1 moves from tower B to tower C.\n",
      "Disk 3 moves from tower A to tower B.\n",
      "Disk 1 moves from tower C to tower A.\n",
      "Disk 2 moves from tower C to tower B.\n",
      "Disk 1 moves from tower A to tower B.\n",
      "Disk 4 moves from tower A to tower C.\n",
      "Disk 1 moves from tower B to tower C.\n",
      "Disk 2 moves from tower B to tower A.\n",
      "Disk 1 moves from tower C to tower A.\n",
      "Disk 3 moves from tower B to tower C.\n",
      "Disk 1 moves from tower A to tower B.\n",
      "Disk 2 moves from tower A to tower C.\n",
      "Disk 1 moves from tower B to tower C.\n"
     ]
    }
   ],
   "source": [
    "# Recursive function for Tower of Hanoi\n",
    "def hanoi(disks, source, helper, destination):\n",
    "    # Base Condition\n",
    "    if (disks == 1):\n",
    "        print('Disk {} moves from tower {} to tower {}.'.format(disks, source, destination))\n",
    "        return\n",
    "\n",
    "    # Recursive calls in which function calls itself\n",
    "    hanoi(disks - 1, source, destination, helper)\n",
    "    print('Disk {} moves from tower {} to tower {}.'.format(disks, source, destination))\n",
    "    hanoi(disks - 1, helper, source, destination)\n",
    "\n",
    "# Driver code\n",
    "disks = int(input('Number of disks to be displaced: '))\n",
    "'''\n",
    "Tower names passed as arguments:\n",
    "Source: A\n",
    "Helper: B\n",
    "Destination: C\n",
    "'''\n",
    "# Actual function call\n",
    "hanoi(disks, 'A', 'B', 'C')"
   ]
  },
  {
   "cell_type": "code",
   "execution_count": null,
   "id": "3c0477ee",
   "metadata": {},
   "outputs": [],
   "source": []
  }
 ],
 "metadata": {
  "kernelspec": {
   "display_name": "Python 3 (ipykernel)",
   "language": "python",
   "name": "python3"
  },
  "language_info": {
   "codemirror_mode": {
    "name": "ipython",
    "version": 3
   },
   "file_extension": ".py",
   "mimetype": "text/x-python",
   "name": "python",
   "nbconvert_exporter": "python",
   "pygments_lexer": "ipython3",
   "version": "3.11.2"
  }
 },
 "nbformat": 4,
 "nbformat_minor": 5
}
